{
 "cells": [
  {
   "cell_type": "markdown",
   "id": "90e79b5c-7929-4e4b-a5eb-d30ca1e95220",
   "metadata": {},
   "source": [
    "# Unificação das duas tabelas de Clubes"
   ]
  },
  {
   "cell_type": "markdown",
   "id": "3b3eddb0-b73d-4ee3-a82b-b078b4025eec",
   "metadata": {},
   "source": [
    "> Código simples para unificar as duas tabelas de clubes obtidas através das rotinas de `scrapWiki` e `scrapDBPedia` utilizando a biblioteca pandas"
   ]
  },
  {
   "cell_type": "code",
   "execution_count": null,
   "id": "9874410c-e033-4250-af99-87b1b9a51dda",
   "metadata": {},
   "outputs": [],
   "source": [
    "import io\n",
    "from os import stat\n",
    "import requests\n",
    "import json\n",
    "import pandas as pd\n",
    "import csv\n",
    "import numpy as np\n",
    "\n",
    "from requests.models import Response\n",
    "\n",
    "#Rotina para concatenar os dois dataframes complementares com informações dos clubes\n",
    "\n",
    "df_clubes = pd.read_csv('clubes_raw.csv')\n",
    "df_infos = pd.read_csv('dbpedia_scrap.csv')\n",
    "\n",
    "\n",
    "\n",
    "#Tratamento\n",
    "df_clubes = df_clubes.rename(columns={\"R\":\"R_a\", \"P\":\"P_b\", \"R.1\":\"R_b\",\"P.1\":\"P_c\", \"R.2\":\"R_c\",\n",
    "            \"P.2\":\"P_d\",})\n",
    "\n",
    "data = pd.concat((df_clubes, df_infos), axis=1)\n",
    "\n",
    "\n",
    "#Alterando a ordem das colunas para melhor legibilidade\n",
    "data = data[['Clube', 'Fullname', 'Nickname', 'Cidade', 'UF', 'formationDate', 'fundation',\n",
    "    'Série A', 'R_a', 'Série B', 'P_b', 'R_b', 'Série C', 'P_c', 'R_c', 'Série D', 'P_d']]\n",
    "\n",
    "data = data.rename(columns={\"Fullname\":\"Nome Completo\", \"Nickname\":\"Apelido\", \n",
    "    \"formationDate\":\"Formacao\",\"fundation\":\"Fundacao\"})\n",
    "\n",
    "data.to_csv('clubes_v0.csv', index=False)"
   ]
  }
 ],
 "metadata": {
  "kernelspec": {
   "display_name": "Python 3 (ipykernel)",
   "language": "python",
   "name": "python3"
  },
  "language_info": {
   "codemirror_mode": {
    "name": "ipython",
    "version": 3
   },
   "file_extension": ".py",
   "mimetype": "text/x-python",
   "name": "python",
   "nbconvert_exporter": "python",
   "pygments_lexer": "ipython3",
   "version": "3.7.10"
  }
 },
 "nbformat": 4,
 "nbformat_minor": 5
}
