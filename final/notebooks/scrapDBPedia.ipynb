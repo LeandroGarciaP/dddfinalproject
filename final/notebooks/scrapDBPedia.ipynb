{
 "cells": [
  {
   "cell_type": "markdown",
   "id": "14a14c6e-0d48-4f22-8c49-58d24e497493",
   "metadata": {},
   "source": [
    "# Modelo de Consultas à DBPedia"
   ]
  },
  {
   "cell_type": "markdown",
   "id": "477364fe-e897-4cd5-ba4b-fe7194abfb08",
   "metadata": {},
   "source": [
    "> Nesse modelo, utilizamos os  521 `concepts` extraídos da tabela da Wikipédia no modelo _scrapWiki_ para realizar consultas individuais\n",
    "à DBPedia, a fim de recuperar informações complementares a respeito de todos os clubes da tabela."
   ]
  },
  {
   "cell_type": "markdown",
   "id": "80e2b949-effd-48d5-97aa-9e35f323b3f7",
   "metadata": {},
   "source": [
    "> Aqui, as 521 consultas buscavam encontrar, para cada clube, seu `Nome Completo`, `Apelido` e `Data de Fundação`, sendo a maioria das consultas bem sucedidas. Dois problemas foram encontrados durante o procedimento de extração de dados:\n",
    "* Página da DBPedia com arquivo JSON corrompido: \"SyntaxError: JSON.parse\"\n",
    "* Página do recurso encontrada mas incorreta ou sem as informações\n",
    "\n",
    ">Nesses casos, o modelo apenas continua a consulta preenchendo as informações do respectivo clube com \"-\""
   ]
  },
  {
   "cell_type": "markdown",
   "id": "40b49b81-4268-4dd8-8711-a5d800e85877",
   "metadata": {},
   "source": [
    "> Ao final da execução, um arquivo csv é gerado com os dados recuperados, ele será tratado junto ao "
   ]
  },
  {
   "cell_type": "markdown",
   "id": "fcffe264-5b98-437a-a448-cc60bef05eca",
   "metadata": {},
   "source": [
    "### Rotina em Python"
   ]
  },
  {
   "cell_type": "code",
   "execution_count": null,
   "id": "5db12625-34b0-4b65-abbb-b18a38e30fc8",
   "metadata": {},
   "outputs": [],
   "source": [
    "import io\n",
    "from os import stat\n",
    "import requests\n",
    "import json\n",
    "import pandas as pd\n",
    "import csv\n",
    "\n",
    "from requests.models import Response\n",
    "\n",
    "\n",
    "\n",
    "#Lendo o arquivo csv e salvando em uma lista\n",
    "teams= []\n",
    "with open('dbconcepts.csv', newline='') as f:\n",
    "    reader = csv.reader(f)\n",
    "    teams = list(reader)\n",
    "teams = [item[0] for item in teams]\n",
    "\n",
    "#remove o nome da coluna\n",
    "del teams[0]\n",
    "\n",
    "\n",
    "#Listas para construção do nosso DataFrame\n",
    "fullnames = []\n",
    "nicknames = []\n",
    "formations = []\n",
    "fundations = []\n",
    "status = []\n",
    "\n",
    "\n",
    "#Laço percorrendo todos os recursos da DBPedia e obtendo as infos desejadas\n",
    "#for team in teams:\n",
    "for i in range(0, len(teams)):\n",
    "    flag = True\n",
    "    url_template = \"http://dbpedia.org/data/{concept}.{format}\"\n",
    "\n",
    "    concept = teams[i]\n",
    "    format = \"jsod\"\n",
    "\n",
    "    concept = concept.replace(\" \", \"_\")\n",
    "\n",
    "    url = url_template.replace(\"{concept}\", concept).replace(\"{format}\", format)\n",
    "\n",
    "    data = requests.get(url)\n",
    "    #Tratamento de erros para JSON inválidos\n",
    "    try:\n",
    "        resp_content = data.json()\n",
    "    except ValueError:\n",
    "        resp_content = data.content\n",
    "        flag = False\n",
    "\n",
    "    \n",
    "    #JSON inválido, preenche a posição nas listas\n",
    "    if (flag == False):\n",
    "        fullnames.append(\"-\")\n",
    "        nicknames.append(\"-\")\n",
    "        formations.append(\"-\")\n",
    "        fundations.append(\"-\")\n",
    "        status.append(\"SyxtaxError\")\n",
    "        continue\n",
    "    \n",
    "    js = resp_content\n",
    "\n",
    "\n",
    "    #Se o vetor de resultados possui pelo menos 1 elemento\n",
    "    if(js[\"d\"][\"__count\"] != '0'):\n",
    "        status.append(\"Found\")\n",
    "        # Flag para verificar se recurso possui nome completo do clube\n",
    "        if(\"http://dbpedia.org/property/fullname\" in js[\"d\"][\"results\"][0]):\n",
    "            fullname = js[\"d\"][\"results\"][0][\"http://dbpedia.org/property/fullname\"]\n",
    "        else:\n",
    "            fullname = \"-\"\n",
    "        fullnames.append(fullname)\n",
    "\n",
    "        #Flag para apelido\n",
    "        if(\"http://dbpedia.org/property/nickname\" in js[\"d\"][\"results\"][0]):\n",
    "            nickname = js[\"d\"][\"results\"][0][\"http://dbpedia.org/property/nickname\"]\n",
    "        else:\n",
    "            nickname = \"-\"\n",
    "        nicknames.append(nickname)\n",
    "\n",
    "        #Flag para Formação\n",
    "        if(\"http://dbpedia.org/ontology/formationDate\" in js[\"d\"][\"results\"][0]):\n",
    "            formation = js[\"d\"][\"results\"][0][\"http://dbpedia.org/ontology/formationDate\"]\n",
    "        else:\n",
    "            formation = \"-\"\n",
    "        formations.append(formation)\n",
    "\n",
    "        #Flag para Fundação\n",
    "        if(\"http://dbpedia.org/property/founded\" in js[\"d\"][\"results\"][0]):\n",
    "            founded = js[\"d\"][\"results\"][0][\"http://dbpedia.org/property/founded\"]\n",
    "        else:\n",
    "            founded = \"-\"\n",
    "        fundations.append(founded)\n",
    "\n",
    "\n",
    "    else:\n",
    "        #Não tem recurso na DBPedia, preenche como linha vazia\n",
    "        status.append(\"NotFound\")\n",
    "        fullnames.append(\"-\")\n",
    "        nicknames.append(\"-\")\n",
    "        formations.append(\"-\")\n",
    "        fundations.append(\"-\")\n",
    "    \n",
    "#Criando DataFrame e Exportando em um csv\n",
    "dict = {'Fullname': fullnames, 'Nickname': nicknames, 'formationDate': formations, \n",
    "            'fundation': fundations, 'status': status}\n",
    "df = pd.DataFrame(dict)\n",
    "df.to_csv('dbpedia_scrap.csv', index=False)"
   ]
  }
 ],
 "metadata": {
  "kernelspec": {
   "display_name": "Python 3 (ipykernel)",
   "language": "python",
   "name": "python3"
  },
  "language_info": {
   "codemirror_mode": {
    "name": "ipython",
    "version": 3
   },
   "file_extension": ".py",
   "mimetype": "text/x-python",
   "name": "python",
   "nbconvert_exporter": "python",
   "pygments_lexer": "ipython3",
   "version": "3.7.10"
  }
 },
 "nbformat": 4,
 "nbformat_minor": 5
}
